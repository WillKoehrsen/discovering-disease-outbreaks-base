{
 "cells": [
  {
   "cell_type": "code",
   "execution_count": 99,
   "metadata": {},
   "outputs": [],
   "source": [
    "from unidecode import unidecode\n",
    "import string as string\n",
    "import geonamescache\n",
    "import re\n",
    "from pandas import DataFrame\n",
    "\n",
    "def getCities():\n",
    "    geonames = geonamescache.GeonamesCache()\n",
    "    normalizedNames = {}\n",
    "    for city in geonames.get_cities().values():\n",
    "        cityName = unidecode(city[\"name\"]).lower()\n",
    "        cityName = cityName.translate(str.maketrans('', '', string.punctuation))\n",
    "        normalizedNames[cityName] = {\"name\": city[\"name\"] , \"country\": city[\"countrycode\"]}\n",
    "    return normalizedNames\n"
   ]
  },
  {
   "cell_type": "code",
   "execution_count": 95,
   "metadata": {},
   "outputs": [],
   "source": [
    "class Headline:\n",
    "    CITY_NAMES = getCities()\n",
    "    def __init__(self,text):\n",
    "        self.text = text.replace(\"\\n\",\"\")\n",
    "        self.city = None\n",
    "        self.country = None\n",
    "    def _setCity(self,city):\n",
    "        self.country = CITY_NAMES[city][\"country\"]\n",
    "        self.city = CITY_NAMES[city][\"name\"]\n",
    "    def findCity(self, name):\n",
    "        if name in CITY_NAMES:\n",
    "            city = name\n",
    "            if not self.city:\n",
    "                self._setCity(city)\n",
    "            elif len(CITY_NAMES[city][\"name\"]) > len(self.city):\n",
    "                self._setCity(city)\n",
    "    def __str__(self):\n",
    "        return f'{{\"headline\": \"{self.text}\", \"city\": \"{self.city}\", \"country\": \"{self.country}\"}}'\n",
    "    def to_dict(self):\n",
    "        return {\"headline\":self.text, \"city\":self.city, \"country\":self.country}\n",
    "\n"
   ]
  },
  {
   "cell_type": "code",
   "execution_count": 96,
   "metadata": {},
   "outputs": [],
   "source": [
    "def HeadlineIterator():\n",
    "    for headline in open('headlines.txt', 'r'):\n",
    "        yield headline\n",
    "\n"
   ]
  },
  {
   "cell_type": "code",
   "execution_count": 97,
   "metadata": {},
   "outputs": [],
   "source": [
    "def FindLocation(inHeadline):\n",
    "    word_list = re.split(r'\\b',inHeadline)\n",
    "    word_list = [word.translate(str.maketrans('', '', string.punctuation)) for word in word_list]\n",
    "    word_list = [word.lower() for word in word_list]\n",
    "    word_list_length = len(word_list)\n",
    "    candidate = ''\n",
    "    headline = Headline(inHeadline)\n",
    "    for i in range(0,word_list_length+1):\n",
    "        for j in range(i+1,word_list_length+1):\n",
    "            candidate = \"\".join(word_list[i:j])\n",
    "            headline.findCity(candidate)\n",
    "    return headline\n",
    "\n"
   ]
  },
  {
   "cell_type": "code",
   "execution_count": 98,
   "metadata": {},
   "outputs": [
    {
     "name": "stdout",
     "output_type": "stream",
     "text": [
      "                                              headline           city country\n",
      "0                             Zika Outbreak Hits Miami          Miami      US\n",
      "1                      Could Zika Reach New York City?  New York City      US\n",
      "2                    First Case of Zika in Miami Beach    Miami Beach      US\n",
      "3              Mystery Virus Spreads in Recife, Brazil         Recife      BR\n",
      "4              Dallas man comes down with case of Zika         Dallas      US\n",
      "..                                                 ...            ...     ...\n",
      "615  Rumors about Rabies spreading in Jerusalem hav...      Jerusalem      IL\n",
      "616              More Zika patients reported in Indang         Indang      PH\n",
      "617  Suva authorities confirmed the spread of Rotav...           Suva      FJ\n",
      "618         More Zika patients reported in Bella Vista    Bella Vista      US\n",
      "619                     Zika Outbreak in Wichita Falls  Wichita Falls      US\n",
      "\n",
      "[620 rows x 3 columns]\n"
     ]
    }
   ],
   "source": [
    "parsed = {\"headline\": [], \"city\": [], \"country\": []}\n",
    "for headline in HeadlineIterator():\n",
    "    headline = FindLocation(headline)\n",
    "    if headline.city:\n",
    "        parsed[\"headline\"].append(headline.text)\n",
    "        parsed[\"city\"].append(headline.city)\n",
    "        parsed[\"country\"].append(headline.country)\n",
    "\n",
    "dataFrame = DataFrame(data=parsed)\n",
    "\n",
    "print(dataFrame)"
   ]
  },
  {
   "cell_type": "code",
   "execution_count": null,
   "metadata": {},
   "outputs": [],
   "source": []
  }
 ],
 "metadata": {
  "kernelspec": {
   "display_name": "Python 3",
   "language": "python",
   "name": "python3"
  },
  "language_info": {
   "codemirror_mode": {
    "name": "ipython",
    "version": 3
   },
   "file_extension": ".py",
   "mimetype": "text/x-python",
   "name": "python",
   "nbconvert_exporter": "python",
   "pygments_lexer": "ipython3",
   "version": "3.7.8"
  }
 },
 "nbformat": 4,
 "nbformat_minor": 4
}
